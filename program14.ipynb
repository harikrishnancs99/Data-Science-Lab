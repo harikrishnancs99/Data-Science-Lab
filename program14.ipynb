{
  "nbformat": 4,
  "nbformat_minor": 0,
  "metadata": {
    "colab": {
      "provenance": [],
      "authorship_tag": "ABX9TyNuKG7o0WzGglf2228LNQsl",
      "include_colab_link": true
    },
    "kernelspec": {
      "name": "python3",
      "display_name": "Python 3"
    },
    "language_info": {
      "name": "python"
    }
  },
  "cells": [
    {
      "cell_type": "markdown",
      "metadata": {
        "id": "view-in-github",
        "colab_type": "text"
      },
      "source": [
        "<a href=\"https://colab.research.google.com/github/harikrishnancs99/Data-Science-Lab/blob/main/program14.ipynb\" target=\"_parent\"><img src=\"https://colab.research.google.com/assets/colab-badge.svg\" alt=\"Open In Colab\"/></a>"
      ]
    },
    {
      "cell_type": "code",
      "execution_count": null,
      "metadata": {
        "colab": {
          "base_uri": "https://localhost:8080/",
          "height": 130
        },
        "id": "P7BuIs9YCgeA",
        "outputId": "4067f5be-2398-47e6-9157-7cae5fe48882"
      },
      "outputs": [
        {
          "output_type": "error",
          "ename": "SyntaxError",
          "evalue": "ignored",
          "traceback": [
            "\u001b[0;36m  File \u001b[0;32m\"<ipython-input-1-dc8384458c81>\"\u001b[0;36m, line \u001b[0;32m8\u001b[0m\n\u001b[0;31m    txt =\"Hello. MCA S3 is fantastic. We learn many new concepts and implement them in\u001b[0m\n\u001b[0m                                                                                      ^\u001b[0m\n\u001b[0;31mSyntaxError\u001b[0m\u001b[0;31m:\u001b[0m EOL while scanning string literal\n"
          ]
        }
      ],
      "source": [
        "import nltk\n",
        "from nltk.corpus import stopwords\n",
        "from nltk.tokenize import word_tokenize,sent_tokenize\n",
        "nltk.download('stopwords')\n",
        "nltk.download('punkt')\n",
        "nltk.download('averaged_perceptron_tagger')\n",
        "stop_words = set(stopwords.words('english'))\n",
        "txt =\"Hello. MCA S3 is fantastic. We learn many new concepts and implement them in\n",
        "our practical exams. \"\n",
        "\"Ist of all the data science is a new paper. \"\n",
        "tokenized= sent_tokenize(txt)\n",
        "for i in tokenized:\n",
        " wordsList= nltk.word_tokenize(i)\n",
        " wordsList= [w for w in wordsList if not w in stop_words]\n",
        " tagged = nltk.pos_tag(wordsList)\n",
        " print(tagged)\n",
        "def generate_N_grams(text,ngram=1):\n",
        " words=[word for word in text.split(\" \") if word not in set(stopwords.words('english'))]\n",
        " print(\"Sentence after removing stopwords:\",words)\n",
        " temp=zip(*[words[i:] for i in range(0,ngram)])\n",
        " ans=[''.join(ngram) for ngram in temp]\n",
        " return ans\n",
        "generate_N_grams(\"The sun rises in the east\",2)\n",
        "generate_N_grams(\"The sun rises in the east\",3)\n",
        "generate_N_grams(\"The sun rises in the east\",4)"
      ]
    }
  ]
}